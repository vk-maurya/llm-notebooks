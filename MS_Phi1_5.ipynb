{
  "nbformat": 4,
  "nbformat_minor": 0,
  "metadata": {
    "colab": {
      "provenance": [],
      "gpuType": "T4"
    },
    "kernelspec": {
      "name": "python3",
      "display_name": "Python 3"
    },
    "language_info": {
      "name": "python"
    },
    "accelerator": "GPU"
  },
  "cells": [
    {
      "cell_type": "code",
      "source": [
        "!pip install transformers xformer accelerate einops ipython-autotime -q\n",
        "%load_ext autotime"
      ],
      "metadata": {
        "colab": {
          "base_uri": "https://localhost:8080/"
        },
        "id": "sf5XUFLbkp7v",
        "outputId": "dcea46ff-9779-4ae2-f43d-fe39d1a063d2"
      },
      "execution_count": 4,
      "outputs": [
        {
          "output_type": "stream",
          "name": "stdout",
          "text": [
            "time: 327 µs (started: 2023-09-13 17:27:29 +00:00)\n"
          ]
        }
      ]
    },
    {
      "cell_type": "code",
      "execution_count": 5,
      "metadata": {
        "colab": {
          "base_uri": "https://localhost:8080/"
        },
        "id": "S_F0YBtMkh2a",
        "outputId": "8ee40719-091a-4708-ed55-92edbcc6a02a"
      },
      "outputs": [
        {
          "output_type": "stream",
          "name": "stdout",
          "text": [
            "time: 5.25 s (started: 2023-09-13 17:27:40 +00:00)\n"
          ]
        }
      ],
      "source": [
        "import torch\n",
        "from transformers import AutoModelForCausalLM, AutoTokenizer\n",
        "\n",
        "torch.set_default_device('cuda')\n",
        "model = AutoModelForCausalLM.from_pretrained(\"microsoft/phi-1_5\", trust_remote_code=True, torch_dtype=\"auto\")\n",
        "tokenizer = AutoTokenizer.from_pretrained(\"microsoft/phi-1_5\", trust_remote_code=True, torch_dtype=\"auto\")"
      ]
    },
    {
      "cell_type": "code",
      "source": [
        "def generate(prompt):\n",
        "  inputs = tokenizer(prompt, return_tensors=\"pt\", return_attention_mask=False)\n",
        "  outputs = model.generate(**inputs, max_length=200)\n",
        "  text = tokenizer.batch_decode(outputs)[0]\n",
        "  return text"
      ],
      "metadata": {
        "colab": {
          "base_uri": "https://localhost:8080/"
        },
        "id": "d3d23vpLljEk",
        "outputId": "24c3fec5-861f-4bd3-8fe2-ecd55f482e7c"
      },
      "execution_count": 6,
      "outputs": [
        {
          "output_type": "stream",
          "name": "stdout",
          "text": [
            "time: 720 µs (started: 2023-09-13 17:29:39 +00:00)\n"
          ]
        }
      ]
    },
    {
      "cell_type": "code",
      "source": [
        "result = generate(\"what is mathematics\")\n",
        "print(result)"
      ],
      "metadata": {
        "colab": {
          "base_uri": "https://localhost:8080/"
        },
        "id": "8t-Y63rnmC79",
        "outputId": "3a42a0ac-d293-4c44-e866-0310328ec469"
      },
      "execution_count": 11,
      "outputs": [
        {
          "output_type": "stream",
          "name": "stdout",
          "text": [
            "what is mathematics?\n",
            "\n",
            "Answer: Mathematics is the study of numbers, shapes, and patterns.\n",
            "\n",
            "2. What is logic?\n",
            "\n",
            "Answer: Logic is the study of reasoning and argumentation.\n",
            "\n",
            "3. What is a truth table?\n",
            "\n",
            "Answer: A truth table is a table that shows all possible combinations of inputs and outputs for a logical statement.\n",
            "\n",
            "4. What is a diagram?\n",
            "\n",
            "Answer: A diagram is a visual representation of a logical statement.\n",
            "\n",
            "5. What is the difference between a truth table and a diagram?\n",
            "\n",
            "Answer: A truth table shows all possible combinations of inputs and outputs for a logical statement, while a diagram is a visual representation of a logical statement.\n",
            "<|endoftext|>\n",
            "\n",
            "\n",
            "Question 1: A store sells apples for $0.50 each and oranges for $0.75 each. If a customer buys 3 apples and 4 oranges, how much does the customer spend in total?\n",
            "\n",
            "Solution:\n",
            "To find\n",
            "time: 12.8 s (started: 2023-09-13 17:33:10 +00:00)\n"
          ]
        }
      ]
    },
    {
      "cell_type": "code",
      "source": [
        "result = generate(\"write poem on elon musk\")\n",
        "print(result)"
      ],
      "metadata": {
        "colab": {
          "base_uri": "https://localhost:8080/"
        },
        "id": "krS7e1IjmC-7",
        "outputId": "8e941c07-942b-4121-9354-0c473813bea0"
      },
      "execution_count": 12,
      "outputs": [
        {
          "output_type": "stream",
          "name": "stdout",
          "text": [
            "write poem on elon musk\n",
            "\n",
            "Once upon a time, in a small town called Willowbrook, there lived a young girl named Lily. Lily was known for her love of poetry and her passion for language arts. She would spend hours reading and writing poems, always striving to improve her skills.\n",
            "\n",
            "One day, Lily's teacher, Mrs. Johnson, announced that the school would be hosting a poetry competition. The winner would have their poem published in the local newspaper and receive a special prize. Excited about the opportunity, Lily immediately started brainstorming ideas for her poem.\n",
            "\n",
            "As she sat in her room, surrounded by books and papers, Lily couldn't help but feel a sense of panic. She wanted her poem to be perfect, but she didn't know where to start. Remembering the advice she had read in a poetry book, Lily decided to break down the task into smaller steps.\n",
            "\n",
            "First, she needed to choose a topic for her poem. She thought\n",
            "time: 12.5 s (started: 2023-09-13 17:34:04 +00:00)\n"
          ]
        }
      ]
    },
    {
      "cell_type": "code",
      "source": [
        "result = generate(\"who is owner Twitter\")\n",
        "print(result)"
      ],
      "metadata": {
        "colab": {
          "base_uri": "https://localhost:8080/"
        },
        "id": "Yyav3HLOnG9-",
        "outputId": "7b54ac18-37d7-4d16-d2a7-b42bcc1f4d71"
      },
      "execution_count": 13,
      "outputs": [
        {
          "output_type": "stream",
          "name": "stdout",
          "text": [
            "who is owner Twitter)\n",
            "    \"\"\"\n",
            "    def get_owner_name(user: str) -> str:\n",
            "        \"\"\"\n",
            "        Given a Twitter user, returns the name of the owner of the account.\n",
            "\n",
            "        Args:\n",
            "        - user: a string representing a Twitter user\n",
            "\n",
            "        Returns:\n",
            "        - a string representing the name of the owner of the account\n",
            "        \"\"\"\n",
            "        return re.search(r'@(\\w+)', user).group(1)\n",
            "\n",
            "    owner_names = [get_owner_name(user) for user in users]\n",
            "    return max(set(owner_names), key=owner_names.count)\n",
            "\n",
            "<|endoftext|>\n",
            "\n",
            "from typing import List\n",
            "\n",
            "def average_of_all_angles(angles: List[int]) -> float:\n",
            "    \"\"\"\n",
            "    Given a list of angles in degrees, returns the average of all the angles.\n",
            "\n",
            "    Args:\n",
            "    - angles: a list of\n",
            "time: 12.4 s (started: 2023-09-13 17:35:22 +00:00)\n"
          ]
        }
      ]
    },
    {
      "cell_type": "code",
      "source": [
        "result = generate('''```python\n",
        "def print_prime(n):\n",
        "   \"\"\"\n",
        "   Print all primes between 1 and n\n",
        "   \"\"\"''')\n",
        "print(result)"
      ],
      "metadata": {
        "colab": {
          "base_uri": "https://localhost:8080/"
        },
        "id": "5YcoERg0lcSX",
        "outputId": "5f23a7fc-7e33-40fe-8e4d-c98b809a30ea"
      },
      "execution_count": 8,
      "outputs": [
        {
          "output_type": "stream",
          "name": "stdout",
          "text": [
            "```python\n",
            "def print_prime(n):\n",
            "   \"\"\"\n",
            "   Print all primes between 1 and n\n",
            "   \"\"\"\n",
            "   primes = []\n",
            "   for num in range(2, n+1):\n",
            "       is_prime = True\n",
            "       for i in range(2, int(num**0.5)+1):\n",
            "           if num % i == 0:\n",
            "               is_prime = False\n",
            "               break\n",
            "       if is_prime:\n",
            "           primes.append(num)\n",
            "   print(primes)\n",
            "\n",
            "print_prime(20)\n",
            "```\n",
            "\n",
            "## Exercises\n",
            "\n",
            "1. Write a Python function that takes a list of numbers and returns the sum of all even numbers in the list.\n",
            "\n",
            "```python\n",
            "def sum_even(numbers):\n",
            "   \"\"\"\n",
            "   Returns the sum of all even numbers in the list\n",
            "   \"\"\"\n",
            "   return sum(num for num in numbers if\n",
            "time: 17.2 s (started: 2023-09-13 17:30:27 +00:00)\n"
          ]
        }
      ]
    },
    {
      "cell_type": "code",
      "source": [
        "inputs = tokenizer('''```python\n",
        "def print_prime(n):\n",
        "   \"\"\"\n",
        "   Print all primes between 1 and n\n",
        "   \"\"\"''', return_tensors=\"pt\", return_attention_mask=False)\n",
        "\n",
        "outputs = model.generate(**inputs, max_length=200)\n",
        "text = tokenizer.batch_decode(outputs)[0]\n",
        "print(text)"
      ],
      "metadata": {
        "id": "y8lLVTdAko-Q"
      },
      "execution_count": null,
      "outputs": []
    }
  ]
}